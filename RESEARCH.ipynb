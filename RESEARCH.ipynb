{
 "cells": [
  {
   "cell_type": "markdown",
   "metadata": {},
   "source": [
    "### Содержание\n",
    "\n",
    "1. [Импорты и загрузки](#section1)\n",
    "2. [Предобработка и нормализация](#section2)\n",
    "3. [Работа с очищенными данными](#section3)\n",
    "4. [Bag-of-words модель](#section4)\n",
    "5. [RuBert Tiny 2 + FC](#section5)\n",
    "6. [KNNClassifier](#section6)\n",
    "7. [Итог](#section7)"
   ]
  },
  {
   "cell_type": "markdown",
   "metadata": {},
   "source": [
    "### Импорты и загрузки\n",
    "<a id = 'section1'></a>"
   ]
  },
  {
   "cell_type": "code",
   "execution_count": 1,
   "metadata": {},
   "outputs": [],
   "source": [
    "import pickle\n",
    "import itertools\n",
    "import torch\n",
    "import pandas as pd\n",
    "import numpy as np\n",
    "import nltk\n",
    "import swifter # нужен для ускорения работы pandas\n",
    "from tqdm import tqdm\n",
    "from torch.utils.data import DataLoader\n",
    "from sklearn.neighbors import KNeighborsClassifier\n",
    "from sentence_transformers import SentenceTransformer\n",
    "from sklearn.metrics import precision_score, recall_score\n",
    "from sklearn.feature_extraction.text import CountVectorizer\n",
    "from sklearn.model_selection import train_test_split, GridSearchCV\n",
    "\n",
    "from utils.ctfidf import CTFIDFVectorizer\n",
    "from utils.datasets import TextDataset, RuBertDataset\n",
    "from utils.models import BagOfWordsModel, RuBertClassifier\n",
    "from utils.utils import preprocess_text, train_model, test_model\n",
    "\n",
    "tqdm.pandas() # нужно для работы progress bar'ов"
   ]
  },
  {
   "cell_type": "code",
   "execution_count": 3,
   "metadata": {},
   "outputs": [
    {
     "name": "stderr",
     "output_type": "stream",
     "text": [
      "[nltk_data] Downloading package punkt to /home/alex-utk/nltk_data...\n",
      "[nltk_data]   Package punkt is already up-to-date!\n",
      "[nltk_data] Downloading package stopwords to /home/alex-\n",
      "[nltk_data]     utk/nltk_data...\n",
      "[nltk_data]   Package stopwords is already up-to-date!\n"
     ]
    },
    {
     "data": {
      "text/plain": [
       "True"
      ]
     },
     "execution_count": 3,
     "metadata": {},
     "output_type": "execute_result"
    }
   ],
   "source": [
    "ARTEFACTS_PATH = './artefacts'\n",
    "DATASET_PATH = './dataset'\n",
    "SKLEARN_MODELS_PATH = './sclearn_saved_models'\n",
    "TORCH_MODELS_PATH = './models'\n",
    "\n",
    "N_CLASSES = 47\n",
    "\n",
    "# зададим random state\n",
    "torch.manual_seed(42)\n",
    "\n",
    "# загрузка всего необходимого\n",
    "nltk.download('punkt')\n",
    "nltk.download('stopwords')"
   ]
  },
  {
   "cell_type": "markdown",
   "metadata": {},
   "source": [
    "### Предобработка и нормализация\n",
    "<a id = 'section2'></a>"
   ]
  },
  {
   "cell_type": "code",
   "execution_count": null,
   "metadata": {},
   "outputs": [],
   "source": [
    "# почистим и нормализуем данные\n",
    "data = pd.read_csv(f'{DATASET_PATH}/train.csv', sep=',')\n",
    "data = data.drop(columns=['id'])\n",
    "data['text'] = data['text'].swifter.apply(preprocess_text) # apply с прикрученым tqdm\n",
    "data.to_csv(f'{DATASET_PATH}/train_preprocessed.csv', index=False)"
   ]
  },
  {
   "cell_type": "code",
   "execution_count": 13,
   "metadata": {},
   "outputs": [
    {
     "name": "stdout",
     "output_type": "stream",
     "text": [
      "105950\n"
     ]
    },
    {
     "data": {
      "text/html": [
       "<div>\n",
       "<style scoped>\n",
       "    .dataframe tbody tr th:only-of-type {\n",
       "        vertical-align: middle;\n",
       "    }\n",
       "\n",
       "    .dataframe tbody tr th {\n",
       "        vertical-align: top;\n",
       "    }\n",
       "\n",
       "    .dataframe thead th {\n",
       "        text-align: right;\n",
       "    }\n",
       "</style>\n",
       "<table border=\"1\" class=\"dataframe\">\n",
       "  <thead>\n",
       "    <tr style=\"text-align: right;\">\n",
       "      <th></th>\n",
       "      <th>text</th>\n",
       "      <th>label</th>\n",
       "    </tr>\n",
       "  </thead>\n",
       "  <tbody>\n",
       "    <tr>\n",
       "      <th>0</th>\n",
       "      <td>девятнадцатый арбитражный апелляционный суд по...</td>\n",
       "      <td>20</td>\n",
       "    </tr>\n",
       "    <tr>\n",
       "      <th>1</th>\n",
       "      <td>двадцатый арбитражный апелляционный суд постан...</td>\n",
       "      <td>12</td>\n",
       "    </tr>\n",
       "    <tr>\n",
       "      <th>2</th>\n",
       "      <td>шестой арбитражный апелляционный суд постановл...</td>\n",
       "      <td>7</td>\n",
       "    </tr>\n",
       "    <tr>\n",
       "      <th>3</th>\n",
       "      <td>восемнадцатый арбитражный апелляционный суд по...</td>\n",
       "      <td>23</td>\n",
       "    </tr>\n",
       "    <tr>\n",
       "      <th>4</th>\n",
       "      <td>седьмой арбитражный апелляционный суд постанов...</td>\n",
       "      <td>17</td>\n",
       "    </tr>\n",
       "  </tbody>\n",
       "</table>\n",
       "</div>"
      ],
      "text/plain": [
       "                                                text  label\n",
       "0  девятнадцатый арбитражный апелляционный суд по...     20\n",
       "1  двадцатый арбитражный апелляционный суд постан...     12\n",
       "2  шестой арбитражный апелляционный суд постановл...      7\n",
       "3  восемнадцатый арбитражный апелляционный суд по...     23\n",
       "4  седьмой арбитражный апелляционный суд постанов...     17"
      ]
     },
     "execution_count": 13,
     "metadata": {},
     "output_type": "execute_result"
    }
   ],
   "source": [
    "# загрузка нормализованных данных\n",
    "data = pd.read_csv(f'{DATASET_PATH}/train_preprocessed.csv', sep=',')\n",
    "print(len(data))\n",
    "data.head()"
   ]
  },
  {
   "cell_type": "markdown",
   "metadata": {},
   "source": [
    "Используя сtf-idf (поклассовый tf-idf), выясним, какие слова наиболее часто встречаются в документах с соответствующими классами, возмем топ 10.\n",
    "\n",
    "\n",
    "Также выясним, топ 5000 слов с конца, которые являются бесполезными для нашей задачи классификации. Как правило это слова с ошибками, опечатками и просто ненужные нам (фамилии, бесполезный контекст и т.д.)"
   ]
  },
  {
   "cell_type": "code",
   "execution_count": null,
   "metadata": {},
   "outputs": [],
   "source": [
    "# для начала сгруппируем тексты по метке класса\n",
    "# лучше не запускать эту ячейку, так как ест очень много памяти\n",
    "# тут мы используем кастомный CTF-IDF класс\n",
    "data_grouped = data.groupby(['label'], as_index=False).agg({'text': ' '.join})\n",
    "\n",
    "count_vectorizer = CountVectorizer().fit(data_grouped['text'])\n",
    "count = count_vectorizer.transform(data_grouped['text'])\n",
    "\n",
    "ctfidf = CTFIDFVectorizer()\n",
    "ctfidf.fit(count, n_samples=105950) # 105950 - это размер трейновой выборки, захардкодил из-за ограничений памяти\n",
    "matrix = ctfidf.transform(count)\n",
    "\n",
    "# сохраним как артефакт, так как считается долго\n",
    "pickle.dump(ctfidf, open('sclearn_saved_models/ctfidf.pkl', 'wb'))\n",
    "pickle.dump(matrix, open('sclearn_saved_models/matrix.pkl', 'wb'))"
   ]
  },
  {
   "cell_type": "code",
   "execution_count": 8,
   "metadata": {},
   "outputs": [
    {
     "name": "stdout",
     "output_type": "stream",
     "text": [
      "(47, 209602)\n",
      "(209602,)\n"
     ]
    }
   ],
   "source": [
    "# загрузим данные\n",
    "ctfidf = pickle.load(open('sclearn_saved_models/ctfidf.pkl', 'rb'))\n",
    "matrix = pickle.load(open('sclearn_saved_models/matrix.pkl', 'rb'))\n",
    "\n",
    "all_words = count_vectorizer.get_feature_names_out()\n",
    "print(matrix.shape)\n",
    "print(all_words.shape)"
   ]
  },
  {
   "cell_type": "code",
   "execution_count": null,
   "metadata": {},
   "outputs": [],
   "source": [
    "# сохраним топ 10 самых важных по tf-idf слов в классе\n",
    "top_n = 50 \n",
    "labels = list(range(47))\n",
    "words_per_class = {label: all_words[matrix[label].toarray().argsort()[0,-top_n:]] for label in labels}\n",
    "with open(f'{ARTEFACTS_PATH}/best_{top_n}.txt', 'wt') as file:\n",
    "    for label, words in words_per_class.items():\n",
    "        file.write(f'{label}\\t{\", \".join(words)}\\n')\n",
    "       \n",
    "# сделаем тоже самое для топ 5000 самых мусорных слов\n",
    "worst_n = 5000\n",
    "words_per_class = {label: all_words[matrix[label].toarray().argsort()[0,:worst_n]] for label in labels}\n",
    "with open(f'{ARTEFACTS_PATH}/worst_{worst_n}.txt', 'wt') as file:\n",
    "    for label, words in words_per_class.items():\n",
    "        file.write(f'{label}\\t{\", \".join(words)}\\n')\n",
    "\n",
    "custom_stop_words = [words for _, words in words_per_class.items()]\n",
    "custom_stop_words = list(set(itertools.chain(*custom_stop_words)))\n",
    "\n",
    "pickle.dump(custom_stop_words, open(f'{ARTEFACTS_PATH}/custom_stop_words.pkl', 'wb'))\n",
    "print(f'Размер словаря бесполезных слов: {len(custom_stop_words)}')\n",
    "\n",
    "# таким образом можно почистить мусорные слова, полученные в результате ошибок/опечаток и просто ненужные нам,\n",
    "# но которые в норме не являются стоп словами"
   ]
  },
  {
   "cell_type": "code",
   "execution_count": 2,
   "metadata": {},
   "outputs": [],
   "source": [
    "# почистим данные еще раз\n",
    "# не запускать, ячейка очень долго работает, ~7 часов\n",
    "custom_stop_words = pickle.load(open(f'{ARTEFACTS_PATH}/custom_stop_words.pkl', 'rb'))\n",
    "data = pd.read_csv(f'{DATASET_PATH}/train_preprocessed.csv', sep=',')\n",
    "\n",
    "def filter_stop_words(text):\n",
    "    tokens = text.split()\n",
    "    tokens = list(filter(lambda token: token not in custom_stop_words,\n",
    "                          tokens))\n",
    "    return ' '.join(tokens)\n",
    "data['text'] = data['text'].swifter.apply(filter_stop_words)\n",
    "data.to_csv(f'{DATASET_PATH}/train_no_stop_words.csv', index=False)"
   ]
  },
  {
   "cell_type": "markdown",
   "metadata": {},
   "source": [
    "Теперь проведем чистку тестовых данных аналогичным образом"
   ]
  },
  {
   "cell_type": "code",
   "execution_count": 12,
   "metadata": {},
   "outputs": [
    {
     "data": {
      "application/vnd.jupyter.widget-view+json": {
       "model_id": "babb5247178d434987ed57490962c2d1",
       "version_major": 2,
       "version_minor": 0
      },
      "text/plain": [
       "Pandas Apply:   0%|          | 0/1952 [00:00<?, ?it/s]"
      ]
     },
     "metadata": {},
     "output_type": "display_data"
    }
   ],
   "source": [
    "# почистим и нормализуем данные\n",
    "test_data = pd.read_csv(f'{DATASET_PATH}/test.csv', sep=',')\n",
    "test_data = test_data.drop(columns=['id'])\n",
    "test_data['text'] = test_data['text'].swifter.apply(preprocess_text) # apply с прикрученым tqdm\n",
    "test_data.to_csv(f'{DATASET_PATH}/test_preprocessed.csv', index=False)"
   ]
  },
  {
   "cell_type": "markdown",
   "metadata": {},
   "source": [
    "### Работа с очищенными данными\n",
    "<a id = 'section3'></a>"
   ]
  },
  {
   "cell_type": "code",
   "execution_count": 3,
   "metadata": {},
   "outputs": [
    {
     "data": {
      "image/png": "[encoded data removed]",
      "text/plain": [
       "<Figure size 640x480 with 1 Axes>"
      ]
     },
     "metadata": {},
     "output_type": "display_data"
    }
   ],
   "source": [
    "# заметен очень сильный дизбаланс классов\n",
    "# micro prescision-recall может дать не самую точную метрику,\n",
    "# так как точность будет оцениваться в основном по самым частотным классам, более редкие\n",
    "# фактически будут иметь меньший вес\n",
    "train_data = pd.read_csv('train_no_stop_words.csv')\n",
    "train_data.loc[:, 'label'].value_counts().plot(kind='bar');"
   ]
  },
  {
   "cell_type": "markdown",
   "metadata": {},
   "source": [
    "### Bag-of-Words модель\n",
    "<a id = 'section4'></a>"
   ]
  },
  {
   "cell_type": "markdown",
   "metadata": {},
   "source": [
    "Попробуем простую модель с bag-of-words подходом и несколькими полносвязаными слоями.\n",
    "\n",
    "Закодируем тестовую и трейн выборку при помощи CountVectorizer и полученные вектора будем использовать для обучения классификатора."
   ]
  },
  {
   "cell_type": "code",
   "execution_count": null,
   "metadata": {},
   "outputs": [],
   "source": [
    "# еще один, гораздо более быстрый способ фильтрации мусорных слов - задать min_df порог,\n",
    "# отсеивающий слишком редкие и бесполезные слова\n",
    "# размер словаря: был - 187615, стал - 14755\n",
    "train_data = pd.read_csv('train_no_stop_words.csv')\n",
    "\n",
    "vectorizer = CountVectorizer(min_df=0.0003) # наиболее оптимальный порог\n",
    "vectorizer.fit(train_data['text'])\n",
    "pickle.dump(vectorizer, open('vectorizer.pkl', 'wb'))\n",
    "\n",
    "train_data['text'] = train_data['text'].progress_apply(lambda text: vectorizer.transform([text]))\n",
    "train_data = train_data.rename(columns={'text': 'features'})\n",
    "train_data.to_pickle(f\"{DATASET_PATH}/train_data_encoded.pkl\")\n",
    "\n",
    "# посмотрим на слова, которые у нас сохранились и\n",
    "# будут использоваться для кодирования\n",
    "lst = list(vectorizer.get_feature_names_out())\n",
    "with open(f'{ARTEFACTS_PATH}/final_dict.txt', 'wt') as file:\n",
    "    for word in lst:\n",
    "        file.write(f'{word}\\n')"
   ]
  },
  {
   "cell_type": "code",
   "execution_count": 4,
   "metadata": {},
   "outputs": [],
   "source": [
    "vectorizer = pickle.load(open(f'{SKLEARN_MODELS_PATH}/vectorizer.pkl', 'rb'))\n",
    "data = pd.read_pickle(f'{DATASET_PATH}/train_data_encoded.pkl')\n",
    "\n",
    "# Разбиение на трейн и валидацию\n",
    "train_set, val_set = train_test_split(data, test_size=0.1, random_state=42,\n",
    "                                      stratify=data['label']) # обязательно стратификацию\n",
    "\n",
    "train_data = TextDataset(train_set)\n",
    "val_data = TextDataset(val_set)\n",
    "\n",
    "train_loader = DataLoader(train_data, batch_size=23838, shuffle=True, num_workers=0, drop_last=True)\n",
    "val_loader = DataLoader(val_data, batch_size=10595, shuffle=True, num_workers=0, drop_last=True)\n",
    "\n",
    "\n",
    "model = BagOfWordsModel(embed_dim=len(vectorizer.get_feature_names_out()), # 14755\n",
    "                        num_class=N_CLASSES) \n",
    "model.cuda()\n",
    "\n",
    "criterion = torch.nn.CrossEntropyLoss()\n",
    "optimizer = torch.optim.SGD(model.parameters(), lr=0.01, momentum=0.9)\n",
    "sheduler = torch.optim.lr_scheduler.ReduceLROnPlateau(optimizer, patience=5)"
   ]
  },
  {
   "cell_type": "code",
   "execution_count": 5,
   "metadata": {},
   "outputs": [
    {
     "data": {
      "text/plain": [
       "torch.nn.modules.loss.CrossEntropyLoss"
      ]
     },
     "execution_count": 5,
     "metadata": {},
     "output_type": "execute_result"
    }
   ],
   "source": [
    "type(criterion)"
   ]
  },
  {
   "cell_type": "code",
   "execution_count": null,
   "metadata": {},
   "outputs": [],
   "source": [
    "n_epochs = 1000\n",
    "train_model(model, train_loader, val_loader, criterion, sheduler,\n",
    "            optimizer, n_epochs, f'{TORCH_MODELS_PATH}/BagOfWords.pt')"
   ]
  },
  {
   "cell_type": "code",
   "execution_count": 4,
   "metadata": {},
   "outputs": [
    {
     "data": {
      "text/plain": [
       "BagOfWordsModel(\n",
       "  (fc1): Linear(in_features=14755, out_features=300, bias=True)\n",
       "  (bn1): BatchNorm1d(300, eps=1e-05, momentum=0.1, affine=True, track_running_stats=True)\n",
       "  (dropout1): Dropout(p=0.2, inplace=False)\n",
       "  (fc2): Linear(in_features=300, out_features=200, bias=True)\n",
       "  (bn2): BatchNorm1d(200, eps=1e-05, momentum=0.1, affine=True, track_running_stats=True)\n",
       "  (dropout2): Dropout(p=0.2, inplace=False)\n",
       "  (fc3): Linear(in_features=200, out_features=100, bias=True)\n",
       "  (bn3): BatchNorm1d(100, eps=1e-05, momentum=0.1, affine=True, track_running_stats=True)\n",
       "  (dropout3): Dropout(p=0.2, inplace=False)\n",
       "  (fc4): Linear(in_features=100, out_features=47, bias=True)\n",
       ")"
      ]
     },
     "execution_count": 4,
     "metadata": {},
     "output_type": "execute_result"
    }
   ],
   "source": [
    "# загрузка обученной модели\n",
    "model.load_state_dict(torch.load(f'{TORCH_MODELS_PATH}/BagOfWords.pt'))\n",
    "model.eval()\n",
    "model.cuda()"
   ]
  },
  {
   "cell_type": "code",
   "execution_count": 5,
   "metadata": {},
   "outputs": [
    {
     "name": "stderr",
     "output_type": "stream",
     "text": [
      "100%|██████████| 1952/1952 [00:01<00:00, 1130.89it/s]\n"
     ]
    }
   ],
   "source": [
    "# Подготовка тестовой части\n",
    "test_data = pd.read_csv(f'{DATASET_PATH}/test_preprocessed.csv')\n",
    "\n",
    "vectorizer = pickle.load(open('vectorizer.pkl', 'rb'))\n",
    "\n",
    "test_data['text'] = test_data['text'].progress_apply(lambda text: vectorizer.transform([text]))\n",
    "test_data = test_data.rename(columns={'text': 'features'})\n",
    "\n",
    "test_dataset = TextDataset(test_data)\n",
    "test_loader = DataLoader(test_dataset, batch_size=1, shuffle=False, num_workers=14)"
   ]
  },
  {
   "cell_type": "code",
   "execution_count": 7,
   "metadata": {},
   "outputs": [
    {
     "name": "stdout",
     "output_type": "stream",
     "text": [
      "Точность - 0.7694672346115112\n",
      "Полнота - 0.7694672346115112\n"
     ]
    }
   ],
   "source": [
    "# Оценка метрик\n",
    "precision, recall = test_model(model, test_loader, n_classes=47)\n",
    "print(f'Точность - {precision}') \n",
    "print(f'Полнота - {recall}')\n"
   ]
  },
  {
   "cell_type": "markdown",
   "metadata": {},
   "source": [
    "### RuBert Tiny 2 + FC\n",
    "<a id = 'section5'></a>"
   ]
  },
  {
   "cell_type": "markdown",
   "metadata": {},
   "source": [
    "В данном подходе попробуем использовать дистиллированый [rubert-tiny-2](https://huggingface.co/cointegrated/rubert-tiny2).\n",
    "\n",
    "Будем получать эмбеддинги всего текста и использовать их с полносвязным слоем для получения класса.\n",
    "\n",
    "В ходе эскпериментов понял, что больше одного слоя делать не очень, так как лосс очень плохо сходится."
   ]
  },
  {
   "cell_type": "code",
   "execution_count": 27,
   "metadata": {},
   "outputs": [
    {
     "data": {
      "text/plain": [
       "SentenceTransformer(\n",
       "  (0): Transformer({'max_seq_length': 2048, 'do_lower_case': False}) with Transformer model: BertModel \n",
       "  (1): Pooling({'word_embedding_dimension': 312, 'pooling_mode_cls_token': True, 'pooling_mode_mean_tokens': False, 'pooling_mode_max_tokens': False, 'pooling_mode_mean_sqrt_len_tokens': False})\n",
       "  (2): Normalize()\n",
       ")"
      ]
     },
     "execution_count": 27,
     "metadata": {},
     "output_type": "execute_result"
    }
   ],
   "source": [
    "# в качестве энкодера текстов используем rubert-tiny2\n",
    "# будем кодировать текст в вектор и пытаться с помощю одного fc слоя прдетсказывать класс\n",
    "\n",
    "encoder = SentenceTransformer('cointegrated/rubert-tiny2')\n",
    "encoder.cuda()"
   ]
  },
  {
   "cell_type": "code",
   "execution_count": 7,
   "metadata": {},
   "outputs": [
    {
     "name": "stderr",
     "output_type": "stream",
     "text": [
      "100%|██████████| 105950/105950 [1:29:43<00:00, 19.68it/s]\n"
     ]
    }
   ],
   "source": [
    "# переведем тексты в эмбеддинги и сохраним\n",
    "# ячейка долго выполняется!\n",
    "\n",
    "tqdm.pandas()\n",
    "train_data = pd.read_csv(f'{DATASET_PATH}/train_no_stop_words.csv')\n",
    "train_data['text'] = train_data['text'].progress_apply(lambda text: encoder.encode(text))\n",
    "train_data = train_data.rename(columns={'text': 'features'})\n",
    "train_data.to_pickle(f\"{DATASET_PATH}/train_data_rubert.pkl\")"
   ]
  },
  {
   "cell_type": "code",
   "execution_count": 3,
   "metadata": {},
   "outputs": [],
   "source": [
    "# обучим нашу сетку правильно классифицировать тексты по эмбеддингам rubert размерности 312\n",
    "data = pd.read_pickle(f\"{DATASET_PATH}/train_data_rubert.pkl\")\n",
    "\n",
    "train_set, val_set = train_test_split(data, test_size=0.1, random_state=42,\n",
    "                                      stratify=data['label']) # обязательно стратификацию\n",
    "\n",
    "train_data = RuBertDataset(train_set)\n",
    "val_data = RuBertDataset(val_set)\n",
    "\n",
    "train_loader = DataLoader(train_data, batch_size=95355, shuffle=True, num_workers=10, drop_last=True)\n",
    "val_loader = DataLoader(val_data, batch_size=10595, shuffle=True, num_workers=10, drop_last=True)\n",
    "\n",
    "\n",
    "model = RuBertClassifier(embed_dim=312, # выход rubert-2-tiny\n",
    "                         num_class=N_CLASSES)\n",
    "model.cuda()\n",
    "\n",
    "criterion = torch.nn.CrossEntropyLoss()\n",
    "optimizer = torch.optim.Adam(model.parameters(), lr=0.1)\n",
    "sheduler = torch.optim.lr_scheduler.ReduceLROnPlateau(optimizer, patience=3)\n",
    "\n",
    "n_epochs = 10000\n",
    "train_model(model, train_loader, val_loader, criterion, sheduler, optimizer,\n",
    "            n_epochs, f'{TORCH_MODELS_PATH}/RuBertClassifier.pt')"
   ]
  },
  {
   "cell_type": "code",
   "execution_count": 29,
   "metadata": {},
   "outputs": [
    {
     "name": "stderr",
     "output_type": "stream",
     "text": [
      "100%|██████████| 1952/1952 [01:42<00:00, 19.02it/s]\n"
     ]
    }
   ],
   "source": [
    "# Подготовка тестовой части\n",
    "test_data = pd.read_csv(f'{DATASET_PATH}/test_preprocessed.csv')\n",
    "\n",
    "test_data['text'] = test_data['text'].progress_apply(lambda text: encoder.encode(text))\n",
    "test_data = test_data.rename(columns={'text': 'features'})\n",
    "test_data.to_pickle(f\"{DATASET_PATH}/test_data_rubert.pkl\")"
   ]
  },
  {
   "cell_type": "code",
   "execution_count": 30,
   "metadata": {},
   "outputs": [
    {
     "data": {
      "text/plain": [
       "RuBertClassifier(\n",
       "  (fc1): Linear(in_features=312, out_features=47, bias=True)\n",
       ")"
      ]
     },
     "execution_count": 30,
     "metadata": {},
     "output_type": "execute_result"
    }
   ],
   "source": [
    "# загрузка уже обученной модели\n",
    "model = RuBertClassifier(embed_dim=312, # выход rubert-2-tiny\n",
    "                         num_class=N_CLASSES)\n",
    "model.load_state_dict(torch.load(f'{TORCH_MODELS_PATH}/RuBertClassifier.pt'))\n",
    "model.eval()\n",
    "model.cuda()"
   ]
  },
  {
   "cell_type": "code",
   "execution_count": 31,
   "metadata": {},
   "outputs": [
    {
     "name": "stdout",
     "output_type": "stream",
     "text": [
      "Точность - 0.655225396156311\n",
      "Полнота - 0.655225396156311\n"
     ]
    }
   ],
   "source": [
    "# Оценка метрик\n",
    "test_data = pd.read_pickle(f\"{DATASET_PATH}/test_data_rubert.pkl\")\n",
    "test_dataset = RuBertDataset(test_data)\n",
    "test_loader = DataLoader(test_dataset, batch_size=1, shuffle=False, num_workers=0)\n",
    "\n",
    "precision, recall = test_model(model, test_loader, n_classes=N_CLASSES)\n",
    "print(f'Точность - {precision}') \n",
    "print(f'Полнота - {recall}') "
   ]
  },
  {
   "cell_type": "markdown",
   "metadata": {},
   "source": [
    "### KNNClassifier\n",
    "<a id = 'section6'></a>"
   ]
  },
  {
   "cell_type": "markdown",
   "metadata": {},
   "source": [
    "Попробуем обучиться простой KNN классификатор на эмбеддингах из ru-bert"
   ]
  },
  {
   "cell_type": "code",
   "execution_count": 3,
   "metadata": {},
   "outputs": [],
   "source": [
    "train_data = pd.read_pickle(f\"{DATASET_PATH}/train_data_rubert.pkl\")\n",
    "train_x, train_y = np.stack(train_data['features']), train_data['label']\n",
    "\n",
    "test_data = pd.read_pickle(f\"{DATASET_PATH}/test_data_rubert.pkl\")\n",
    "test_x, test_y = np.stack(test_data['features']), test_data['label']"
   ]
  },
  {
   "cell_type": "code",
   "execution_count": 13,
   "metadata": {},
   "outputs": [
    {
     "data": {
      "text/plain": [
       "{'n_neighbors': 17, 'weights': 'distance'}"
      ]
     },
     "execution_count": 13,
     "metadata": {},
     "output_type": "execute_result"
    }
   ],
   "source": [
    "# определим наиболее оптимальные параметры и посмотрим их\n",
    "params = { \n",
    "    'n_neighbors': np.arange(15, 23, dtype=int),\n",
    "    'p': [1, 2, np.inf], # манхеттенская, евклидова метрика и расстояние чёбышева\n",
    "    'weights': ['uniform', 'distance'] \n",
    "}\n",
    "\n",
    "scoring = ['precision_micro', 'recall_micro']\n",
    "\n",
    "knn = KNeighborsClassifier()\n",
    "grid_search = GridSearchCV(KNeighborsClassifier(), params,\n",
    "                           scoring=scoring, refit='precision_micro', n_jobs=12)\n",
    "grid_search.fit(train_x, train_y)\n",
    "grid_search.best_params_"
   ]
  },
  {
   "cell_type": "code",
   "execution_count": 17,
   "metadata": {},
   "outputs": [
    {
     "name": "stdout",
     "output_type": "stream",
     "text": [
      "Точность - 0.6480532786885246\n",
      "Полнота - 0.6480532786885246\n"
     ]
    }
   ],
   "source": [
    "# теперь возмем полученные параметры и обучим на них классификатор\n",
    "# учится быстро\n",
    "knn = KNeighborsClassifier(n_neighbors=20, p=2,\n",
    "                           n_jobs=-1, weights='distance')\n",
    "knn.fit(train_x, train_y)\n",
    "pred_y = knn.predict(test_x)\n",
    "\n",
    "print(f'Точность - {precision_score(test_y, pred_y, average=\"micro\")}') \n",
    "print(f'Полнота - {recall_score(test_y, pred_y, average=\"micro\")}')\n",
    "\n",
    "# Точность - 0.6480532786885246\n",
    "# Полнота - 0.6480532786885246"
   ]
  },
  {
   "cell_type": "markdown",
   "metadata": {},
   "source": [
    "### Итог\n",
    "<a id = 'section7'></a>"
   ]
  },
  {
   "cell_type": "markdown",
   "metadata": {},
   "source": [
    "|                     | Точность           | Полнота            |\n",
    "|---------------------|--------------------|--------------------|\n",
    "| Bag-of-words модель | 0.7694672346115112 | 0.7694672346115112 |\n",
    "| RuBert Tiny 2 + FC  | 0.6552253961563110 | 0.6552253961563110 |\n",
    "| KNNClassifier       | 0.6480532786885246 | 0.6480532786885246 |\n",
    "\n",
    "По итогу вышло, что наиболее простой подход с bag-of-words выдал лучший скор. Возможно, что использование более мощного энкодера вместо самого маленького RuBert дало бы результат лучше, но не хватило вычислительных мощностей.\n",
    "\n",
    "В дальнейшей работе наилучшу модель имеет смысл конвертировать в onnx и заинференсить в Nvidia Triton Inference Server для более быстрой работы и поддержки динамического батчинга."
   ]
  }
 ],
 "metadata": {
  "kernelspec": {
   "display_name": "tz_venv",
   "language": "python",
   "name": "python3"
  },
  "language_info": {
   "codemirror_mode": {
    "name": "ipython",
    "version": 3
   },
   "file_extension": ".py",
   "mimetype": "text/x-python",
   "name": "python",
   "nbconvert_exporter": "python",
   "pygments_lexer": "ipython3",
   "version": "3.10.12"
  }
 },
 "nbformat": 4,
 "nbformat_minor": 2
}
